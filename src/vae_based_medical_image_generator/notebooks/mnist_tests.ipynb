{
 "cells": [
  {
   "cell_type": "code",
   "execution_count": null,
   "metadata": {},
   "outputs": [],
   "source": [
    "import torchvision.transforms\n",
    "import numpy as np\n",
    "from torch.nn.functional import one_hot\n",
    "import torch\n",
    "\n",
    "dataset = torchvision.datasets.MNIST(root='./data/mnist',\n",
    "                                          train=(\"train\" == \"train\"),\n",
    "                                          download=True,\n",
    "                                          transform=torchvision.transforms.Compose(\n",
    "                                              [torchvision.transforms.ToTensor()]\n",
    "                                          ))\n",
    "\n",
    "\n",
    "class MNISTdataset():\n",
    "\n",
    "    def __init__(self, dataset):\n",
    "        self.dataset = dataset\n",
    "        self.imgs = [np.array(img) for img, label in self.dataset]\n",
    "        self.labels = [label for img, label in self.dataset]\n",
    "        self.labels = one_hot(torch.tensor(mnist.labels)).numpy()\n",
    "\n",
    "        self.info = {\"n_channls\": 1,\n",
    "                    \"labels\": {k: v for k, v in [elem.split(\" - \") for elem in dataset.classes]}\n",
    "                    }\n",
    "\n",
    "    def __getitem__(self, index):\n",
    "        '''\n",
    "        return: (without transform/target_transofrm)\n",
    "            img: PIL.Image\n",
    "            target: np.array of L (L=1 for single-label)\n",
    "        '''\n",
    "        img, target = self.imgs[index], self.labels[index].astype(int)\n",
    "        img = Image.fromarray(img)\n",
    "\n",
    "        if self.as_rgb:\n",
    "            img = img.convert('RGB')\n",
    "\n",
    "        if self.transform is not None:\n",
    "            img = self.transform(img)\n",
    "\n",
    "        if self.target_transform is not None:\n",
    "            target = self.target_transform(target)\n",
    "\n",
    "        return img, target\n",
    "\n",
    "mnist = MNISTdataset(dataset)\n",
    "mnist"
   ]
  },
  {
   "cell_type": "code",
   "execution_count": null,
   "metadata": {},
   "outputs": [],
   "source": [
    "from vae_based_medical_image_generator.data.dataset import load_dataset\n",
    "\n",
    "medmnist_data = load_dataset(\"chestmnist\", \"train\")\n",
    "medmnist_data\n"
   ]
  }
 ],
 "metadata": {
  "kernelspec": {
   "display_name": ".venv",
   "language": "python",
   "name": "python3"
  },
  "language_info": {
   "codemirror_mode": {
    "name": "ipython",
    "version": 3
   },
   "file_extension": ".py",
   "mimetype": "text/x-python",
   "name": "python",
   "nbconvert_exporter": "python",
   "pygments_lexer": "ipython3",
   "version": "3.10.9"
  },
  "orig_nbformat": 4
 },
 "nbformat": 4,
 "nbformat_minor": 2
}
