{
 "cells": [
  {
   "attachments": {},
   "cell_type": "markdown",
   "metadata": {},
   "source": [
    "# Training"
   ]
  },
  {
   "cell_type": "code",
   "execution_count": 9,
   "metadata": {},
   "outputs": [
    {
     "name": "stdout",
     "output_type": "stream",
     "text": [
      "cuda\n"
     ]
    }
   ],
   "source": [
    "import torch.nn as nn\n",
    "import torch\n",
    "from tqdm import tqdm\n",
    "from vae_based_medical_image_generator.data import dataset\n",
    "from torch.utils.data import DataLoader\n",
    "from vae_based_medical_image_generator.model.vae import EncoderVAE, DecoderVAE, VariationalAutoencoder, vae_loss\n",
    "\n",
    "# Define hyperparameters for training\n",
    "img_channels = 1\n",
    "feature_dim = 32*20*20\n",
    "latent_dim = 100\n",
    "\n",
    "batch_size = 32\n",
    "lr = 1e-4\n",
    "num_epochs = 10\n",
    "\n",
    "device = torch.device('cuda' if torch.cuda.is_available() else 'cpu')\n",
    "print(device)"
   ]
  },
  {
   "cell_type": "code",
   "execution_count": 10,
   "metadata": {},
   "outputs": [],
   "source": [
    "# initialize the encoder and the decoder\n",
    "\n",
    "encoder = EncoderVAE(img_channels, feature_dim, latent_dim) \n",
    "decoder = DecoderVAE(img_channels, feature_dim, latent_dim)\n",
    "vae = VariationalAutoencoder(encoder, decoder, device).to(device)\n",
    "\n",
    "# initialize optimizer\n",
    "optimizer = torch.optim.Adam(vae.parameters(), lr=lr)"
   ]
  },
  {
   "cell_type": "code",
   "execution_count": 11,
   "metadata": {},
   "outputs": [
    {
     "name": "stdout",
     "output_type": "stream",
     "text": [
      "Using downloaded and verified file: /home/leon/.medmnist/organamnist.npz\n"
     ]
    },
    {
     "name": "stdout",
     "output_type": "stream",
     "text": [
      "Using downloaded and verified file: /home/leon/.medmnist/organamnist.npz\n"
     ]
    }
   ],
   "source": [
    "# initialize dataset\n",
    "train_dataset = dataset.load_dataset(dataset_name=\"organamnist\", split=\"train\")\n",
    "test_dataset  = dataset.load_dataset(dataset_name=\"organamnist\", split=\"test\")\n",
    "\n",
    "train_loader = DataLoader(dataset=train_dataset, batch_size=batch_size, shuffle=True)\n",
    "test_loader  = DataLoader(dataset=test_dataset,  batch_size=batch_size, shuffle=False)"
   ]
  },
  {
   "cell_type": "code",
   "execution_count": 17,
   "metadata": {},
   "outputs": [
    {
     "name": "stderr",
     "output_type": "stream",
     "text": [
      "Epoch 0: 100%|██████████| 1081/1081 [00:10<00:00, 98.45batch/s, loss=-4.01e+5]\n",
      "Epoch 1: 100%|██████████| 1081/1081 [00:10<00:00, 98.28batch/s, loss=-3.98e+5] \n",
      "Epoch 2: 100%|██████████| 1081/1081 [00:11<00:00, 97.36batch/s, loss=-3.26e+5]\n",
      "Epoch 3: 100%|██████████| 1081/1081 [00:11<00:00, 95.90batch/s, loss=-3.42e+5]\n",
      "Epoch 4: 100%|██████████| 1081/1081 [00:11<00:00, 94.49batch/s, loss=-1.87e+5]\n",
      "Epoch 5: 100%|██████████| 1081/1081 [00:11<00:00, 95.69batch/s, loss=-2.93e+5]\n",
      "Epoch 6: 100%|██████████| 1081/1081 [00:11<00:00, 94.89batch/s, loss=-3.11e+5]\n",
      "Epoch 7: 100%|██████████| 1081/1081 [00:11<00:00, 95.14batch/s, loss=-3.58e+5]\n",
      "Epoch 8: 100%|██████████| 1081/1081 [00:11<00:00, 95.45batch/s, loss=-1.84e+5] \n",
      "Epoch 9: 100%|██████████| 1081/1081 [00:11<00:00, 96.08batch/s, loss=-4.53e+5]\n"
     ]
    }
   ],
   "source": [
    "\"\"\"\n",
    "Training the network for a given number of epochs\n",
    "The loss after every epoch is printed\n",
    "\"\"\"\n",
    "for epoch in range(num_epochs):\n",
    "    with tqdm(train_loader, unit=\"batch\") as tepoch:\n",
    "        tepoch.set_description(f\"Epoch {epoch}\")\n",
    "\n",
    "        for data in tepoch:\n",
    "            imgs, _ = data\n",
    "            imgs = imgs.to(device)\n",
    "            \n",
    "            # Feeding a batch of images into the network to obtain the output image, mu, and logVar\n",
    "            out, mu, logVar = vae(imgs)\n",
    "            \n",
    "            # The loss is the BCE loss combined with the KL divergence to ensure the distribution is learnt\n",
    "            loss = vae_loss(imgs, out, mu, logVar)\n",
    "            \n",
    "            # Backpropagation based on the loss\n",
    "            optimizer.zero_grad()\n",
    "            loss.backward()\n",
    "            optimizer.step()\n",
    "\n",
    "            tepoch.set_postfix(loss=loss.item())\n",
    "        "
   ]
  },
  {
   "cell_type": "code",
   "execution_count": 18,
   "metadata": {},
   "outputs": [
    {
     "data": {
      "image/png": "[encoded data removed]",
      "text/plain": [
       "<Figure size 640x480 with 2 Axes>"
      ]
     },
     "metadata": {},
     "output_type": "display_data"
    }
   ],
   "source": [
    "import matplotlib.pyplot as plt\n",
    "import numpy as np\n",
    "import random\n",
    "\n",
    "vae.eval()\n",
    "with torch.no_grad():\n",
    "    for data in random.sample(list(test_loader), 1):\n",
    "        imgs, _ = data\n",
    "        imgs = imgs.to(device)\n",
    "        img = np.transpose(imgs[0].cpu().numpy(), [1,2,0])\n",
    "        plt.subplot(121)\n",
    "        plt.imshow(np.squeeze(img))\n",
    "        out, mu, logVAR = vae(imgs)\n",
    "        outimg = np.transpose(out[0].cpu().numpy(), [1,2,0])\n",
    "        plt.subplot(122)\n",
    "        plt.imshow(np.squeeze(outimg))"
   ]
  }
 ],
 "metadata": {
  "kernelspec": {
   "display_name": "Python 3 (ipykernel)",
   "language": "python",
   "name": "python3"
  },
  "language_info": {
   "codemirror_mode": {
    "name": "ipython",
    "version": 3
   },
   "file_extension": ".py",
   "mimetype": "text/x-python",
   "name": "python",
   "nbconvert_exporter": "python",
   "pygments_lexer": "ipython3",
   "version": "3.11.3"
  }
 },
 "nbformat": 4,
 "nbformat_minor": 2
}
