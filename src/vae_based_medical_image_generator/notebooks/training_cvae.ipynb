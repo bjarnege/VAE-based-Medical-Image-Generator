{
 "cells": [
  {
   "attachments": {},
   "cell_type": "markdown",
   "metadata": {},
   "source": [
    "# Training"
   ]
  },
  {
   "cell_type": "code",
   "execution_count": 4,
   "metadata": {},
   "outputs": [
    {
     "name": "stdout",
     "output_type": "stream",
     "text": [
      "The autoreload extension is already loaded. To reload it, use:\n",
      "  %reload_ext autoreload\n"
     ]
    }
   ],
   "source": [
    "%load_ext autoreload\n",
    "%autoreload 2"
   ]
  },
  {
   "cell_type": "code",
   "execution_count": null,
   "metadata": {},
   "outputs": [],
   "source": []
  },
  {
   "cell_type": "code",
   "execution_count": 5,
   "metadata": {},
   "outputs": [],
   "source": [
    "import torch.nn as nn\n",
    "import torch\n",
    "import matplotlib.pyplot as plt\n",
    "import numpy as np\n",
    "import random\n",
    "from tqdm import tqdm\n",
    "from vae_based_medical_image_generator.data import dataset\n",
    "from torch.utils.data import DataLoader, Dataset"
   ]
  },
  {
   "cell_type": "code",
   "execution_count": 6,
   "metadata": {},
   "outputs": [
    {
     "name": "stdout",
     "output_type": "stream",
     "text": [
      "Using downloaded and verified file: /home/workstation/.medmnist/chestmnist.npz\n",
      "Using downloaded and verified file: /home/workstation/.medmnist/chestmnist.npz\n"
     ]
    },
    {
     "data": {
      "application/vnd.jupyter.widget-view+json": {
       "model_id": "253f272758094c3ba22de0d77014eb25",
       "version_major": 2,
       "version_minor": 0
      },
      "text/plain": [
       "  0%|          | 0/50 [00:00<?, ?epochs/s]"
      ]
     },
     "metadata": {},
     "output_type": "display_data"
    },
    {
     "data": {
      "application/vnd.jupyter.widget-view+json": {
       "model_id": "8dc2b8fd95764a8fa3977ab2d9ed33b3",
       "version_major": 2,
       "version_minor": 0
      },
      "text/plain": [
       "Training:   0%|          | 0/1227 [00:00<?, ?batch/s]"
      ]
     },
     "metadata": {},
     "output_type": "display_data"
    },
    {
     "name": "stdout",
     "output_type": "stream",
     "text": [
      "torch.Size([64, 30976])\n",
      "torch.Size([64, 14, 2])\n"
     ]
    },
    {
     "ename": "RuntimeError",
     "evalue": "Tensors must have same number of dimensions: got 2 and 3",
     "output_type": "error",
     "traceback": [
      "\u001b[0;31m---------------------------------------------------------------------------\u001b[0m",
      "\u001b[0;31mRuntimeError\u001b[0m                              Traceback (most recent call last)",
      "Cell \u001b[0;32mIn[6], line 105\u001b[0m\n\u001b[1;32m    102\u001b[0m optimizer \u001b[39m=\u001b[39m torch\u001b[39m.\u001b[39moptim\u001b[39m.\u001b[39mAdam(cvae_model\u001b[39m.\u001b[39mparameters(), lr\u001b[39m=\u001b[39mlr)\n\u001b[1;32m    103\u001b[0m scheduler \u001b[39m=\u001b[39m torch\u001b[39m.\u001b[39moptim\u001b[39m.\u001b[39mlr_scheduler\u001b[39m.\u001b[39mStepLR(optimizer, step_size\u001b[39m=\u001b[39m\u001b[39mlen\u001b[39m(train_loader)\u001b[39m*\u001b[39m\u001b[39m30\u001b[39m, gamma\u001b[39m=\u001b[39m\u001b[39m0.5\u001b[39m, last_epoch\u001b[39m=\u001b[39m\u001b[39m-\u001b[39m\u001b[39m1\u001b[39m, verbose\u001b[39m=\u001b[39m\u001b[39mFalse\u001b[39;00m) \n\u001b[0;32m--> 105\u001b[0m train_losses, eval_losses \u001b[39m=\u001b[39m fit(cvae_model, train_loader, test_loader, scheduler, device)\n\u001b[1;32m    106\u001b[0m \u001b[39m# print_image(vae_model, train_loader.dataset, device)\u001b[39;00m\n\u001b[1;32m    107\u001b[0m \n\u001b[1;32m    108\u001b[0m \u001b[39m# 14sek pro Batch\u001b[39;00m\n",
      "Cell \u001b[0;32mIn[6], line 63\u001b[0m, in \u001b[0;36mfit\u001b[0;34m(model, train_dataloader, eval_dataloader, scheduler, device, predict_every)\u001b[0m\n\u001b[1;32m     60\u001b[0m \u001b[39mfor\u001b[39;00m epoch \u001b[39min\u001b[39;00m \u001b[39mrange\u001b[39m(\u001b[39m1\u001b[39m, num_epochs \u001b[39m+\u001b[39m \u001b[39m1\u001b[39m):\n\u001b[1;32m     61\u001b[0m     pbar\u001b[39m.\u001b[39mset_description(\u001b[39mf\u001b[39m\u001b[39m\"\u001b[39m\u001b[39mEpoch \u001b[39m\u001b[39m{\u001b[39;00mepoch\u001b[39m}\u001b[39;00m\u001b[39m of \u001b[39m\u001b[39m{\u001b[39;00mnum_epochs\u001b[39m}\u001b[39;00m\u001b[39m, LR: \u001b[39m\u001b[39m{\u001b[39;00mscheduler\u001b[39m.\u001b[39mget_last_lr()\u001b[39m}\u001b[39;00m\u001b[39m\"\u001b[39m)\n\u001b[0;32m---> 63\u001b[0m     training_losses\u001b[39m.\u001b[39mappend(train(model, train_dataloader, device))\n\u001b[1;32m     64\u001b[0m     test_losses\u001b[39m.\u001b[39mappend(evaluate(model, eval_dataloader, device))\n\u001b[1;32m     66\u001b[0m     \u001b[39mif\u001b[39;00m epoch \u001b[39m%\u001b[39m predict_every \u001b[39m==\u001b[39m \u001b[39m0\u001b[39m:\n",
      "Cell \u001b[0;32mIn[6], line 31\u001b[0m, in \u001b[0;36mtrain\u001b[0;34m(model, train_dataloader, device)\u001b[0m\n\u001b[1;32m     27\u001b[0m images \u001b[39m=\u001b[39m images\u001b[39m.\u001b[39mto(device)\n\u001b[1;32m     29\u001b[0m optimizer\u001b[39m.\u001b[39mzero_grad()\n\u001b[0;32m---> 31\u001b[0m out, mu, logVar \u001b[39m=\u001b[39m model(images, labels)\n\u001b[1;32m     32\u001b[0m training_loss \u001b[39m=\u001b[39m vae_loss(images, out, mu, logVar) \n\u001b[1;32m     33\u001b[0m total_loss \u001b[39m+\u001b[39m\u001b[39m=\u001b[39m training_loss\u001b[39m.\u001b[39mitem()\n",
      "File \u001b[0;32m~/GitHub/VAE-based-Medical-Image-Generator/.venv/lib/python3.10/site-packages/torch/nn/modules/module.py:1501\u001b[0m, in \u001b[0;36mModule._call_impl\u001b[0;34m(self, *args, **kwargs)\u001b[0m\n\u001b[1;32m   1496\u001b[0m \u001b[39m# If we don't have any hooks, we want to skip the rest of the logic in\u001b[39;00m\n\u001b[1;32m   1497\u001b[0m \u001b[39m# this function, and just call forward.\u001b[39;00m\n\u001b[1;32m   1498\u001b[0m \u001b[39mif\u001b[39;00m \u001b[39mnot\u001b[39;00m (\u001b[39mself\u001b[39m\u001b[39m.\u001b[39m_backward_hooks \u001b[39mor\u001b[39;00m \u001b[39mself\u001b[39m\u001b[39m.\u001b[39m_backward_pre_hooks \u001b[39mor\u001b[39;00m \u001b[39mself\u001b[39m\u001b[39m.\u001b[39m_forward_hooks \u001b[39mor\u001b[39;00m \u001b[39mself\u001b[39m\u001b[39m.\u001b[39m_forward_pre_hooks\n\u001b[1;32m   1499\u001b[0m         \u001b[39mor\u001b[39;00m _global_backward_pre_hooks \u001b[39mor\u001b[39;00m _global_backward_hooks\n\u001b[1;32m   1500\u001b[0m         \u001b[39mor\u001b[39;00m _global_forward_hooks \u001b[39mor\u001b[39;00m _global_forward_pre_hooks):\n\u001b[0;32m-> 1501\u001b[0m     \u001b[39mreturn\u001b[39;00m forward_call(\u001b[39m*\u001b[39;49margs, \u001b[39m*\u001b[39;49m\u001b[39m*\u001b[39;49mkwargs)\n\u001b[1;32m   1502\u001b[0m \u001b[39m# Do not call functions when jit is used\u001b[39;00m\n\u001b[1;32m   1503\u001b[0m full_backward_hooks, non_full_backward_hooks \u001b[39m=\u001b[39m [], []\n",
      "File \u001b[0;32m~/GitHub/VAE-based-Medical-Image-Generator/src/vae_based_medical_image_generator/model/cvae.py:52\u001b[0m, in \u001b[0;36mConditionalVariationalAutoencoder.forward\u001b[0;34m(self, x, c)\u001b[0m\n\u001b[1;32m     49\u001b[0m \u001b[39mprint\u001b[39m(hidden\u001b[39m.\u001b[39mshape)\n\u001b[1;32m     50\u001b[0m \u001b[39mprint\u001b[39m(c\u001b[39m.\u001b[39mshape)\n\u001b[0;32m---> 52\u001b[0m hidden_with_labels \u001b[39m=\u001b[39m torch\u001b[39m.\u001b[39;49mcat([hidden, c], \u001b[39m1\u001b[39;49m)\n\u001b[1;32m     54\u001b[0m mean, log_variance \u001b[39m=\u001b[39m \u001b[39mself\u001b[39m\u001b[39m.\u001b[39mmean_fc(hidden_with_labels), \u001b[39mself\u001b[39m\u001b[39m.\u001b[39mlog_variance_fc(hidden_with_labels)\n\u001b[1;32m     55\u001b[0m sampled_latent_variable \u001b[39m=\u001b[39m \u001b[39mself\u001b[39m\u001b[39m.\u001b[39mreparameterization(mean, log_variance)\n",
      "\u001b[0;31mRuntimeError\u001b[0m: Tensors must have same number of dimensions: got 2 and 3"
     ]
    }
   ],
   "source": [
    "from tqdm.auto import trange, tqdm\n",
    "from vae_based_medical_image_generator.model.cvae import ConditionalVariationalAutoencoder, vae_loss\n",
    "\n",
    "def print_image(model: ConditionalVariationalAutoencoder, dataset: Dataset, device: torch.device, sample_size: int = 1):\n",
    "    with torch.no_grad():\n",
    "        for index in torch.randperm(len(dataset))[:sample_size]:\n",
    "            image, labels = dataset[index]\n",
    "            labels = torch.tensor(labels).reshape(1, len(labels))\n",
    "\n",
    "            out, mu, logVAR = model(image.to(device).unsqueeze(1), labels.to(device))\n",
    "\n",
    "            plt.subplot(121)\n",
    "            plt.imshow(image.numpy().squeeze())\n",
    "            plt.title(\"Original Image\")\n",
    "            plt.subplot(122)\n",
    "            plt.imshow(out.cpu().numpy().squeeze())\n",
    "            plt.title(\"Reconstructed Image\")\n",
    "            plt.show()\n",
    "\n",
    "def train(model: ConditionalVariationalAutoencoder, train_dataloader: DataLoader, device: torch.device): \n",
    "    model.train()\n",
    "\n",
    "    total_loss = 0\n",
    "    pbar = tqdm(train_dataloader, unit=\"batch\", desc=\"Training\")\n",
    "    for images, labels in pbar:\n",
    "        labels = labels.to(device)\n",
    "        images = images.to(device)\n",
    "\n",
    "        optimizer.zero_grad()\n",
    "            \n",
    "        out, mu, logVar = model(images, labels)\n",
    "        training_loss = vae_loss(images, out, mu, logVar) \n",
    "        total_loss += training_loss.item()\n",
    "\n",
    "        training_loss.backward()\n",
    "        optimizer.step()\n",
    "        scheduler.step()\n",
    "\n",
    "    return total_loss / len(train_dataloader.dataset)\n",
    "\n",
    "def evaluate(model: ConditionalVariationalAutoencoder, eval_dataloader: DataLoader, device: torch.device): \n",
    "    model.eval()\n",
    "    total_loss = 0\n",
    "    with torch.no_grad():\n",
    "        pbar = tqdm(eval_dataloader, unit=\"batch\", desc=\"Evaluating\")\n",
    "        for images, labels in pbar:\n",
    "            images = images.to(device)\n",
    "            labels = labels.to(device)\n",
    "\n",
    "            out, mu, logVar = model(images, labels)\n",
    "            total_loss += vae_loss(images, out, mu, logVar).item()\n",
    "\n",
    "    return total_loss / len(test_loader.dataset)\n",
    "\n",
    "def fit(model: ConditionalVariationalAutoencoder, train_dataloader: DataLoader, eval_dataloader: DataLoader, scheduler: torch.optim.lr_scheduler.StepLR, device: torch.device, predict_every: int = 5):\n",
    "    training_losses = [] \n",
    "    test_losses = [] \n",
    "\n",
    "    pbar = trange(1, num_epochs + 1, unit=\"epochs\")\n",
    "    for epoch in range(1, num_epochs + 1):\n",
    "        pbar.set_description(f\"Epoch {epoch} of {num_epochs}, LR: {scheduler.get_last_lr()}\")\n",
    "        \n",
    "        training_losses.append(train(model, train_dataloader, device))\n",
    "        test_losses.append(evaluate(model, eval_dataloader, device))\n",
    "\n",
    "        if epoch % predict_every == 0:\n",
    "            print_image(model, train_loader.dataset, device)\n",
    "            print_image(model, test_loader.dataset, device)\n",
    "\n",
    "    return training_losses, test_losses\n",
    "\n",
    "\n",
    "# Hyperparameters\n",
    "batch_size = 64\n",
    "lr = 1e-3\n",
    "num_epochs = 50\n",
    "\n",
    "device = torch.device('cuda' if torch.cuda.is_available() else 'cpu')\n",
    "\n",
    "# initialize dataset\n",
    "train_dataset = dataset.load_dataset(dataset_name=\"chestmnist\", split=\"train\")\n",
    "test_dataset  = dataset.load_dataset(dataset_name=\"chestmnist\", split=\"test\")\n",
    "\n",
    "# one hot encode the labels\n",
    "if not train_dataset[0][1].shape[0] > 1:# check if data is already one hot encoded\n",
    "    labels_train = torch.as_tensor(train_dataset.labels.squeeze()).to(torch.int64)\n",
    "    train_dataset.labels =  torch.nn.functional.one_hot(labels_train).numpy()\n",
    "\n",
    "    labels_test = torch.as_tensor(test_dataset.labels.squeeze()).to(torch.int64)\n",
    "    test_dataset.labels =  torch.nn.functional.one_hot(labels_test).numpy()\n",
    "\n",
    "n_labels = len(train_dataset.info[\"label\"].keys())\n",
    "\n",
    "# inititalize DataLoader\n",
    "train_loader = DataLoader(dataset=train_dataset, batch_size=batch_size, shuffle=True)\n",
    "test_loader  = DataLoader(dataset=test_dataset, batch_size=batch_size, shuffle=False)\n",
    "\n",
    "# initialize model\n",
    "cvae_model = ConditionalVariationalAutoencoder(image_channels=1, n_labels=n_labels, latent_dimension=64, device=device).to(device)\n",
    "\n",
    "# initialize optimizer and scheduler\n",
    "optimizer = torch.optim.Adam(cvae_model.parameters(), lr=lr)\n",
    "scheduler = torch.optim.lr_scheduler.StepLR(optimizer, step_size=len(train_loader)*30, gamma=0.5, last_epoch=-1, verbose=False) \n",
    "\n",
    "train_losses, eval_losses = fit(cvae_model, train_loader, test_loader, scheduler, device)\n",
    "# print_image(vae_model, train_loader.dataset, device)\n",
    "\n",
    "# 14sek pro Batch\n"
   ]
  },
  {
   "cell_type": "code",
   "execution_count": null,
   "metadata": {},
   "outputs": [
    {
     "data": {
      "image/png": "[encoded data removed]",
      "text/plain": [
       "<Figure size 640x480 with 1 Axes>"
      ]
     },
     "metadata": {},
     "output_type": "display_data"
    }
   ],
   "source": [
    "import matplotlib.pyplot as plt\n",
    "\n",
    "plt.plot(train_losses, label = \"Training loss\")\n",
    "plt.plot(eval_losses, label = \"Eval loss\")\n",
    "plt.xlabel('Epoch')\n",
    "plt.ylabel('Loss')\n",
    "plt.title('Epoch Losses')\n",
    "plt.legend()\n",
    "plt.show()"
   ]
  }
 ],
 "metadata": {
  "kernelspec": {
   "display_name": "Python 3 (ipykernel)",
   "language": "python",
   "name": "python3"
  },
  "language_info": {
   "codemirror_mode": {
    "name": "ipython",
    "version": 3
   },
   "file_extension": ".py",
   "mimetype": "text/x-python",
   "name": "python",
   "nbconvert_exporter": "python",
   "pygments_lexer": "ipython3",
   "version": "3.10.9"
  }
 },
 "nbformat": 4,
 "nbformat_minor": 2
}
